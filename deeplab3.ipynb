{
 "cells": [
  {
   "cell_type": "markdown",
   "metadata": {},
   "source": [
    "fcn那个就不push了， 没啥意义，基本和doc一样。<br>\n",
    "这个是那个deeplab.<br>\n",
    "数据按网上说的方式存（默认好像是该文件夹） <br>\n",
    "这个也是拼了几个doc拼出来的，我基本没写几句。<br>\n",
    "要说一句，我一般是很爱写comments的人。只是这玩意儿我不太懂，我也写不出啥来。<br>\n",
    "还有我微信里说错了，我电脑慢（还说数据太多了），我好像连一个epoch都没有跑完，只是一个epoch里跑了无数个batch. <br>"
   ]
  },
  {
   "cell_type": "code",
   "execution_count": 1,
   "metadata": {},
   "outputs": [],
   "source": [
    "import time\n",
    "import numpy as np\n",
    "import mxnet as mx\n",
    "from mxnet import gluon, autograd\n",
    "from mxnet.gluon.data.vision import transforms\n",
    "from gluoncv import data, utils, model_zoo\n",
    "from gluoncv.utils.parallel import *\n",
    "from gluoncv.loss import MixSoftmaxCrossEntropyLoss\n",
    "from matplotlib import pyplot as plt"
   ]
  },
  {
   "cell_type": "code",
   "execution_count": 2,
   "metadata": {},
   "outputs": [
    {
     "name": "stdout",
     "output_type": "stream",
     "text": [
      "Training images: 2913\n"
     ]
    }
   ],
   "source": [
    "input_transform = transforms.Compose([transforms.ToTensor(),transforms.Normalize([.485, .456, .406], [.229, .224, .225]),])\n",
    "trainset = data.VOCSegmentation(split='train', transform=input_transform)\n",
    "print('Training images:', len(trainset))"
   ]
  },
  {
   "cell_type": "code",
   "execution_count": 3,
   "metadata": {},
   "outputs": [],
   "source": [
    "batch_size = 5 #原来好像是2，是不是太少了,可是5好像也很少。\n",
    "train_data = gluon.data.DataLoader(trainset, batch_size, shuffle=True, last_batch='rollover', num_workers=batch_size)"
   ]
  },
  {
   "cell_type": "code",
   "execution_count": 4,
   "metadata": {},
   "outputs": [],
   "source": [
    "model = model_zoo.get_model('deeplab_resnet101_ade', pretrained=True)\n",
    "\n",
    "criterion = MixSoftmaxCrossEntropyLoss(aux=True)\n",
    "lr_scheduler =utils.LRScheduler('poly', base_lr=0.001,nepochs=50, iters_per_epoch=len(train_data), power=0.9)\n",
    "\n",
    "ctx_list = [mx.cpu(0)]\n",
    "model = DataParallelModel(model, ctx_list)\n",
    "criterion = DataParallelCriterion(criterion, ctx_list)\n",
    "\n",
    "kv = mx.kv.create('device')\n",
    "optimizer = gluon.Trainer(model.module.collect_params(), 'sgd', {'lr_scheduler': lr_scheduler,'wd':0.0001, 'momentum': 0.9,\n",
    "                           'multi_precision': True},\n",
    "                          kvstore = kv)"
   ]
  },
  {
   "cell_type": "code",
   "execution_count": 8,
   "metadata": {
    "scrolled": false
   },
   "outputs": [
    {
     "name": "stdout",
     "output_type": "stream",
     "text": [
      "Epoch 1, batch 0, training loss 4.774, took 59.083884954452515 seconds\n",
      "Epoch 1, batch 1, training loss 2.46, took 71.3262734413147 seconds\n",
      "Epoch 1, batch 2, training loss 2.238, took 67.65197086334229 seconds\n"
     ]
    },
    {
     "ename": "KeyboardInterrupt",
     "evalue": "",
     "output_type": "error",
     "traceback": [
      "\u001b[1;31m---------------------------------------------------------------------------\u001b[0m",
      "\u001b[1;31mKeyboardInterrupt\u001b[0m                         Traceback (most recent call last)",
      "\u001b[1;32m<ipython-input-8-8818cd8a4f4f>\u001b[0m in \u001b[0;36m<module>\u001b[1;34m\u001b[0m\n\u001b[0;32m      9\u001b[0m             \u001b[0moutputs\u001b[0m \u001b[1;33m=\u001b[0m \u001b[0mmodel\u001b[0m\u001b[1;33m(\u001b[0m\u001b[0mdata\u001b[0m\u001b[1;33m)\u001b[0m\u001b[1;33m\u001b[0m\u001b[1;33m\u001b[0m\u001b[0m\n\u001b[0;32m     10\u001b[0m             \u001b[0mlosses\u001b[0m \u001b[1;33m=\u001b[0m \u001b[0mcriterion\u001b[0m\u001b[1;33m(\u001b[0m\u001b[0moutputs\u001b[0m\u001b[1;33m,\u001b[0m \u001b[0mtarget\u001b[0m\u001b[1;33m)\u001b[0m\u001b[1;33m\u001b[0m\u001b[1;33m\u001b[0m\u001b[0m\n\u001b[1;32m---> 11\u001b[1;33m             \u001b[0mmx\u001b[0m\u001b[1;33m.\u001b[0m\u001b[0mnd\u001b[0m\u001b[1;33m.\u001b[0m\u001b[0mwaitall\u001b[0m\u001b[1;33m(\u001b[0m\u001b[1;33m)\u001b[0m\u001b[1;33m\u001b[0m\u001b[1;33m\u001b[0m\u001b[0m\n\u001b[0m\u001b[0;32m     12\u001b[0m             \u001b[0mautograd\u001b[0m\u001b[1;33m.\u001b[0m\u001b[0mbackward\u001b[0m\u001b[1;33m(\u001b[0m\u001b[0mlosses\u001b[0m\u001b[1;33m)\u001b[0m\u001b[1;33m\u001b[0m\u001b[1;33m\u001b[0m\u001b[0m\n\u001b[0;32m     13\u001b[0m         \u001b[0moptimizer\u001b[0m\u001b[1;33m.\u001b[0m\u001b[0mstep\u001b[0m\u001b[1;33m(\u001b[0m\u001b[0mbatch_size\u001b[0m\u001b[1;33m)\u001b[0m\u001b[1;33m\u001b[0m\u001b[1;33m\u001b[0m\u001b[0m\n",
      "\u001b[1;32m~\\Anaconda3\\lib\\site-packages\\mxnet\\ndarray\\ndarray.py\u001b[0m in \u001b[0;36mwaitall\u001b[1;34m()\u001b[0m\n\u001b[0;32m    164\u001b[0m        \u001b[0mIf\u001b[0m \u001b[0myour\u001b[0m \u001b[0mmxnet\u001b[0m \u001b[0mcode\u001b[0m \u001b[0mthrows\u001b[0m \u001b[0man\u001b[0m \u001b[0mexception\u001b[0m\u001b[1;33m,\u001b[0m \u001b[0mthen\u001b[0m \u001b[0mwaitall\u001b[0m \u001b[0mcan\u001b[0m \u001b[0mcause\u001b[0m \u001b[0mperformance\u001b[0m \u001b[0mimpact\u001b[0m\u001b[1;33m.\u001b[0m\u001b[1;33m\u001b[0m\u001b[1;33m\u001b[0m\u001b[0m\n\u001b[0;32m    165\u001b[0m     \"\"\"\n\u001b[1;32m--> 166\u001b[1;33m     \u001b[0mcheck_call\u001b[0m\u001b[1;33m(\u001b[0m\u001b[0m_LIB\u001b[0m\u001b[1;33m.\u001b[0m\u001b[0mMXNDArrayWaitAll\u001b[0m\u001b[1;33m(\u001b[0m\u001b[1;33m)\u001b[0m\u001b[1;33m)\u001b[0m\u001b[1;33m\u001b[0m\u001b[1;33m\u001b[0m\u001b[0m\n\u001b[0m\u001b[0;32m    167\u001b[0m \u001b[1;33m\u001b[0m\u001b[0m\n\u001b[0;32m    168\u001b[0m \u001b[1;33m\u001b[0m\u001b[0m\n",
      "\u001b[1;31mKeyboardInterrupt\u001b[0m: "
     ]
    }
   ],
   "source": [
    "train_loss = 0.0\n",
    "epoch = 0\n",
    "\n",
    "while epoch < 10:\n",
    "    epoch += 1\n",
    "    for batch, (data, target) in enumerate(train_data):\n",
    "        batch_time = time.time()\n",
    "        with autograd.record(True):\n",
    "            outputs = model(data)\n",
    "            losses = criterion(outputs, target)\n",
    "            mx.nd.waitall()\n",
    "            autograd.backward(losses)\n",
    "        optimizer.step(batch_size)\n",
    "        for loss in losses:\n",
    "            train_loss += loss.asnumpy()[0] / len(losses)\n",
    "        batch_time = time.time() - batch_time\n",
    "        print(f'Epoch {epoch}, batch {batch}, training loss {round(train_loss/(batch+1),3)}, took {batch_time} seconds')\n",
    " \n"
   ]
  },
  {
   "cell_type": "code",
   "execution_count": 1,
   "metadata": {},
   "outputs": [],
   "source": [
    "# add some util function\n",
    "VOC_COLORMAP = [[0, 0, 0], [128, 0, 0], [0, 128, 0], [128, 128, 0],\n",
    "                [0, 0, 128], [128, 0, 128], [0, 128, 128], [128, 128, 128],\n",
    "                [64, 0, 0], [192, 0, 0], [64, 128, 0], [192, 128, 0],\n",
    "                [64, 0, 128], [192, 0, 128], [64, 128, 128], [192, 128, 128],\n",
    "                [0, 64, 0], [128, 64, 0], [0, 192, 0], [128, 192, 0],\n",
    "                [0, 64, 128]]\n",
    "# Save to the d2l package. \n",
    "VOC_CLASSES = ['background', 'aeroplane', 'bicycle', 'bird', 'boat',\n",
    "               'bottle', 'bus', 'car', 'cat', 'chair', 'cow',\n",
    "               'diningtable', 'dog', 'horse', 'motorbike', 'person',\n",
    "               'potted plant', 'sheep', 'sofa', 'train', 'tv/monitor']"
   ]
  },
  {
   "cell_type": "code",
   "execution_count": 2,
   "metadata": {},
   "outputs": [],
   "source": [
    "def build_colormap2label():\n",
    "    \"\"\"Build a RGB color to label mapping for segmentation.\"\"\"\n",
    "    colormap2label = nd.zeros(256 ** 3)\n",
    "    for i, colormap in enumerate(VOC_COLORMAP):\n",
    "        colormap2label[(colormap[0]*256 + colormap[1])*256 + colormap[2]] = i\n",
    "    return colormap2label\n",
    "\n",
    "def voc_label_indices(colormap, colormap2label):\n",
    "    \"\"\"Map a RGB color to a label.\"\"\"\n",
    "    colormap = colormap.astype('int32')\n",
    "    idx = ((colormap[:, :, 0] * 256 + colormap[:, :, 1]) * 256\n",
    "           + colormap[:, :, 2])\n",
    "    return colormap2label[idx]"
   ]
  },
  {
   "cell_type": "code",
   "execution_count": null,
   "metadata": {},
   "outputs": [],
   "source": []
  }
 ],
 "metadata": {
  "kernelspec": {
   "display_name": "Python 3",
   "language": "python",
   "name": "python3"
  },
  "language_info": {
   "codemirror_mode": {
    "name": "ipython",
    "version": 3
   },
   "file_extension": ".py",
   "mimetype": "text/x-python",
   "name": "python",
   "nbconvert_exporter": "python",
   "pygments_lexer": "ipython3",
   "version": "3.7.5"
  }
 },
 "nbformat": 4,
 "nbformat_minor": 2
}
